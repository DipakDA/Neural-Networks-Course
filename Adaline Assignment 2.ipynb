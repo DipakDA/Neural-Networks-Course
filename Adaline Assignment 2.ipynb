{
 "cells": [
  {
   "cell_type": "code",
   "execution_count": 5,
   "metadata": {},
   "outputs": [],
   "source": [
    "import numpy as np\n",
    "import pandas as pd"
   ]
  },
  {
   "cell_type": "code",
   "execution_count": 147,
   "metadata": {},
   "outputs": [],
   "source": [
    "class Perceptron:\n",
    "    def __init__(self, no_of_inputs):\n",
    "        self.no_of_inputs = no_of_inputs\n",
    "        self.weight_array = np.random.randn(no_of_inputs, 1) #row vector\n",
    "        print(self.weight_array)\n",
    "        self.bias = 0\n",
    "\n",
    "    def set_weights(weight_array):\n",
    "        self.weight_array = weight_array\n",
    "\n",
    "    def set_bias(bias):\n",
    "        self.bias = bias\n",
    "\n",
    "    def a(self, input_x):               #input_x = input vector\n",
    "        return np.dot(input_x, self.weight_array) + self.bias\n",
    "\n",
    "    def acti_func(self, x):               #using the hardlim function for now\n",
    "        if x >= 0:\n",
    "            return 1\n",
    "        else:\n",
    "            return -1\n",
    "\n",
    "    def output(self, input_x):\n",
    "        return self.acti_func(self.a(input_x))\n",
    "    \n",
    "    def fit(self, epochs, learn_rate, data_set):\n",
    "        numpy_matrix = data_set.as_matrix()\n",
    "        #print(numpy_matrix.shape)\n",
    "\n",
    "        for i in range(epochs):  #number of iterations = epochs\n",
    "            #print(i)\n",
    "            for x in range(numpy_matrix.shape[0]):\n",
    "                #print(numpy_matrix[x])\n",
    "                X = numpy_matrix[x][:16]\n",
    "                #print(X)\n",
    "                #print(self.weight_array.shape)\n",
    "                X = X.reshape(16, 1)\n",
    "                #print(X)\n",
    "                error = numpy_matrix[x][16] - np.transpose(X).dot(self.weight_array)                           #X is the input vector\n",
    "                self.weight_array = self.weight_array + 2*learn_rate*error*X\n",
    "                self.bias = self.bias + 2*learn_rate*error[0][0] \n",
    "                #print(self.weight_array)\n",
    "                #print(\"#\" + \" \" + str(self.bias))\n",
    "    def test_acc(self, data_set, size):\n",
    "        numpy_matrix = data_set.as_matrix()\n",
    "        sum_t = 0\n",
    "        for x in range(numpy_matrix.shape[0]):\n",
    "            #print(numpy_matrix[x])\n",
    "            X = numpy_matrix[x][:16]\n",
    "            #print(X)\n",
    "            #print(self.weight_array.shape)\n",
    "            #X = X.reshape(16, 1)\n",
    "            #print(X)\n",
    "            desired_output = numpy_matrix[x][16]\n",
    "            y_output = self.output(X)\n",
    "            if y_output == desired_output:\n",
    "                sum_t = sum_t + 1\n",
    "                \n",
    "        return sum_t/size\n",
    "        "
   ]
  },
  {
   "cell_type": "code",
   "execution_count": 148,
   "metadata": {},
   "outputs": [
    {
     "name": "stdout",
     "output_type": "stream",
     "text": [
      "[[ 3.70917807e-01]\n",
      " [ 1.46031965e-01]\n",
      " [ 1.20138239e-03]\n",
      " [-3.72442924e-01]\n",
      " [-6.52212460e-01]\n",
      " [-3.07676688e-01]\n",
      " [ 1.72886217e+00]\n",
      " [ 1.82237051e+00]\n",
      " [-8.77923048e-02]\n",
      " [-2.41082002e-01]\n",
      " [ 7.70744608e-01]\n",
      " [ 1.14467569e+00]\n",
      " [-5.57474167e-01]\n",
      " [-7.55299611e-01]\n",
      " [ 7.18185456e-01]\n",
      " [-2.76381267e-01]]\n"
     ]
    }
   ],
   "source": [
    "neuron = Perceptron(16)"
   ]
  },
  {
   "cell_type": "code",
   "execution_count": 149,
   "metadata": {},
   "outputs": [
    {
     "name": "stderr",
     "output_type": "stream",
     "text": [
      "/home/dipak/anaconda3/lib/python3.6/site-packages/ipykernel_launcher.py:27: FutureWarning: Method .as_matrix will be removed in a future version. Use .values instead.\n"
     ]
    }
   ],
   "source": [
    "#Let number of iterations be 10\n",
    "#Let learning rate be 0.01\n",
    "\n",
    "#T is 1\n",
    "#U is -1\n",
    "\n",
    "dict_pre = {'0': [1, 0, 0, 0, 0, 1, 0, 1], '1': [1, 1, 0, 0, 0, 0, 0, 0],\n",
    "            '2': [1, 1, 1, 0, 0, 0, 0, 1], '3': [0, 1, 0, 1, 0, 0, 0, 1],\n",
    "            '4': [0, 0, 0, 0, 1, 1, 1, 0], '5': [1, 0, 0, 0, 0, 1, 1, 0],\n",
    "            '6': [0, 1, 1, 0, 0, 1, 1, 0], '7': [0, 0, 0, 1, 0, 1, 1, 1],\n",
    "            '8': [0, 0, 1, 0, 1, 1, 0, 0], '9': [1, 0, 0, 1, 1, 0, 0, 0],\n",
    "            '10':[0, 1, 1, 0, 1, 0, 0, 1], '11':[0, 0, 0, 1, 1, 0, 1, 1],\n",
    "            '12':[0, 0, 1, 0, 1, 0, 0, 0], '13':[1, 0, 1, 1, 0, 0, 0, 0],\n",
    "            '14':[0, 1, 1, 1, 0, 0, 1, 0], '15':[0, 0, 0, 1, 0, 0, 1, 0]}\n",
    "\n",
    "df = pd.DataFrame(data = dict_pre)\n",
    "df['Class'] = [1, 1, -1, -1, 1, 1, -1, -1]\n",
    "#print(df)\n",
    "\n",
    "neuron.fit(100, 0.1, df)"
   ]
  },
  {
   "cell_type": "code",
   "execution_count": 153,
   "metadata": {},
   "outputs": [
    {
     "data": {
      "text/plain": [
       "-1"
      ]
     },
     "execution_count": 153,
     "metadata": {},
     "output_type": "execute_result"
    }
   ],
   "source": [
    "neuron.output([0,0,0,1,0,1,0,1,0,1,0,1,0,1,1,1])"
   ]
  },
  {
   "cell_type": "code",
   "execution_count": 150,
   "metadata": {},
   "outputs": [
    {
     "name": "stderr",
     "output_type": "stream",
     "text": [
      "/home/dipak/anaconda3/lib/python3.6/site-packages/ipykernel_launcher.py:45: FutureWarning: Method .as_matrix will be removed in a future version. Use .values instead.\n"
     ]
    },
    {
     "data": {
      "text/plain": [
       "100.0"
      ]
     },
     "execution_count": 150,
     "metadata": {},
     "output_type": "execute_result"
    }
   ],
   "source": [
    "neuron.test_acc(df, 8)*100"
   ]
  },
  {
   "cell_type": "code",
   "execution_count": null,
   "metadata": {},
   "outputs": [],
   "source": []
  },
  {
   "cell_type": "code",
   "execution_count": null,
   "metadata": {},
   "outputs": [],
   "source": []
  }
 ],
 "metadata": {
  "kernelspec": {
   "display_name": "Python 3",
   "language": "python",
   "name": "python3"
  },
  "language_info": {
   "codemirror_mode": {
    "name": "ipython",
    "version": 3
   },
   "file_extension": ".py",
   "mimetype": "text/x-python",
   "name": "python",
   "nbconvert_exporter": "python",
   "pygments_lexer": "ipython3",
   "version": "3.6.5"
  }
 },
 "nbformat": 4,
 "nbformat_minor": 2
}
