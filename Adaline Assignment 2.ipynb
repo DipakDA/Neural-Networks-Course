{
 "cells": [
  {
   "cell_type": "markdown",
   "metadata": {},
   "source": [
    "# ADALINE MODEL "
   ]
  },
  {
   "cell_type": "code",
   "execution_count": 280,
   "metadata": {},
   "outputs": [],
   "source": [
    "import numpy as np\n",
    "import pandas as pd\n",
    "import matplotlib.pyplot as plt\n",
    "%matplotlib inline"
   ]
  },
  {
   "cell_type": "markdown",
   "metadata": {},
   "source": [
    "# Model Class "
   ]
  },
  {
   "cell_type": "code",
   "execution_count": 293,
   "metadata": {},
   "outputs": [],
   "source": [
    "class Model:\n",
    "    def __init__(self, no_of_inputs):\n",
    "        \"\"\"\n",
    "        This function is the initialization of the adaline neuron\n",
    "        \"\"\"\n",
    "        self.no_of_inputs = no_of_inputs\n",
    "        self.weight_array = np.random.randn(no_of_inputs, 1)*10 #row vector\n",
    "        print(self.weight_array)\n",
    "        self.bias = 0\n",
    "\n",
    "    def a(self, input_x): #input_x = input vector\n",
    "        \"\"\"\n",
    "        This function is the function what calculates the weighted sum\n",
    "        \"\"\"\n",
    "        return np.dot(input_x, self.weight_array) + self.bias\n",
    "\n",
    "    def acti_func(self, x):               #using the signum function for now\n",
    "        \"\"\"\n",
    "        This is the signum activation function\n",
    "        \"\"\"\n",
    "        if x >= 0:\n",
    "            return 1\n",
    "        else:\n",
    "            return -1\n",
    "\n",
    "    def output(self, input_x):\n",
    "        \"\"\"\n",
    "        This returns the output for a single input\n",
    "        \"\"\"\n",
    "        return self.acti_func(self.a(input_x))\n",
    "    \n",
    "    def fitA(self, epochs, learn_rate, data_set):\n",
    "        \"\"\"\n",
    "        This is the fit function for Case 1 and Case3\n",
    "        \"\"\"\n",
    "        numpy_matrix = data_set.as_matrix()\n",
    "        #print(numpy_matrix.shape)\n",
    "\n",
    "        out_x = []\n",
    "        out_y = []\n",
    "        for i in range(epochs):  #number of iterations = epochs\n",
    "            #print(i)\n",
    "            weight_ARR = self.weight_array\n",
    "            error_A = []\n",
    "            error = 0\n",
    "            for x in range(numpy_matrix.shape[0]):\n",
    "                #print(numpy_matrix[x])\n",
    "                X = numpy_matrix[x][:16]\n",
    "                #print(X)\n",
    "                #print(self.weight_array.shape)\n",
    "                X = X.reshape(16, 1)\n",
    "                #print(X)\n",
    "                error_A.append(numpy_matrix[x][16] - np.transpose(X).dot(weight_ARR))\n",
    "                error = numpy_matrix[x][16] - np.transpose(X).dot(self.weight_array)                           #X is the input vector\n",
    "                self.weight_array = self.weight_array + 2*learn_rate*error*X\n",
    "                self.bias = self.bias + 2*learn_rate*error[0][0] \n",
    "                #print(self.weight_array)\n",
    "                #print(\"#\" + \" \" + str(self.bias))\n",
    "            \n",
    "            sse = 0\n",
    "            for x in range(len(weight_ARR)):\n",
    "                sse = sse + weight_ARR[x]*weight_ARR[x]\n",
    "            \n",
    "            out_x.append(i+1)\n",
    "            out_y.append(sse)\n",
    "        \n",
    "        #plt.xticks([])\n",
    "        plt.yticks([])\n",
    "        plt.ylabel(\"Error\")\n",
    "        plt.xlabel(\"Iterations\")\n",
    "        plt.plot(out_x, out_y)\n",
    "    \n",
    "    def fitB(self, epochs, learn_rate, data_set):\n",
    "        \"\"\"\n",
    "        This is the fit function for Case 2\n",
    "        \"\"\"\n",
    "        numpy_matrix = data_set.as_matrix()\n",
    "        #print(numpy_matrix.shape)\n",
    "\n",
    "        out_x = []\n",
    "        out_y = []\n",
    "        for i in range(epochs):  #number of iterations = epochs\n",
    "            #print(i)\n",
    "            weight_ARR = self.weight_array\n",
    "            #error_A = []\n",
    "            error = 0\n",
    "            for x in range(numpy_matrix.shape[0]):\n",
    "                #print(numpy_matrix[x])\n",
    "                X = numpy_matrix[x][:16]\n",
    "                #print(X)\n",
    "                #print(self.weight_array.shape)\n",
    "                X = X.reshape(16, 1)\n",
    "                #print(X)\n",
    "                #error_A.append(numpy_matrix[x][16] - np.transpose(X).dot(weight_ARR))\n",
    "                error += numpy_matrix[x][16] - np.transpose(X).dot(self.weight_array)                           #X is the input vector\n",
    "                #self.weight_array = self.weight_array + 2*learn_rate*error*X\n",
    "                #self.bias = self.bias + 2*learn_rate*error[0][0] \n",
    "                #print(self.weight_array)\n",
    "                #print(\"#\" + \" \" + str(self.bias))\n",
    "            error = error/8\n",
    "            for x in range(numpy_matrix.shape[0]):\n",
    "                #print(numpy_matrix[x])\n",
    "                X = numpy_matrix[x][:16]\n",
    "                #print(X)\n",
    "                #print(self.weight_array.shape)\n",
    "                X = X.reshape(16, 1)\n",
    "                self.weight_array = self.weight_array + 2*learn_rate*error*X\n",
    "                self.bias = self.bias + 2*learn_rate*error[0][0] \n",
    "            \n",
    "    def test_acc(self, data_set, size):\n",
    "        \"\"\"\n",
    "        This is to check accuracy using test data\n",
    "        \"\"\"\n",
    "        numpy_matrix = data_set.as_matrix()\n",
    "        sum_t = 0\n",
    "        for x in range(numpy_matrix.shape[0]):\n",
    "            #print(numpy_matrix[x])\n",
    "            X = numpy_matrix[x][:16]\n",
    "            #print(X)\n",
    "            #print(self.weight_array.shape)\n",
    "            #X = X.reshape(16, 1)\n",
    "            #print(X)\n",
    "            desired_output = numpy_matrix[x][16]\n",
    "            y_output = self.output(X)\n",
    "            if y_output == desired_output:\n",
    "                sum_t = sum_t + 1\n",
    "                \n",
    "        return sum_t/size\n",
    "        "
   ]
  },
  {
   "cell_type": "markdown",
   "metadata": {},
   "source": [
    "# Graph function"
   ]
  },
  {
   "cell_type": "code",
   "execution_count": 294,
   "metadata": {},
   "outputs": [],
   "source": [
    "def plot_graph(input_x):\n",
    "    \"\"\"\n",
    "    This plots the points given as input\n",
    "    \"\"\"\n",
    "    i = 1\n",
    "    j = 4\n",
    "    x = []\n",
    "    y = []\n",
    "    for x_t in range(len(input_x)):\n",
    "        #print(type(input_x[x_t]))\n",
    "        if input_x[x_t] == 1:\n",
    "            x.append(i)\n",
    "            y.append(j)\n",
    "        i = i + 1\n",
    "        if i == 5:\n",
    "            j = j - 1\n",
    "            i = 1\n",
    "            \n",
    "    plt.ylim(ymin = 0, ymax = 5)\n",
    "    plt.xlim(xmin = 0, xmax = 5)\n",
    "    plt.scatter(x, y)"
   ]
  },
  {
   "cell_type": "markdown",
   "metadata": {},
   "source": [
    "# Adaline for Case 1 and Case 3"
   ]
  },
  {
   "cell_type": "code",
   "execution_count": 295,
   "metadata": {},
   "outputs": [
    {
     "name": "stdout",
     "output_type": "stream",
     "text": [
      "[[ 12.93919107]\n",
      " [  5.40341419]\n",
      " [-11.25043781]\n",
      " [  6.98576922]\n",
      " [ -3.82562792]\n",
      " [  2.79047303]\n",
      " [ 29.67311917]\n",
      " [  1.24611068]\n",
      " [-16.12533364]\n",
      " [ -8.93839613]\n",
      " [ -4.24217755]\n",
      " [  9.83948912]\n",
      " [ 30.48077256]\n",
      " [  5.36599543]\n",
      " [ 14.91998322]\n",
      " [ -9.23869638]]\n"
     ]
    }
   ],
   "source": [
    "neuronA = Model(16)"
   ]
  },
  {
   "cell_type": "code",
   "execution_count": 296,
   "metadata": {},
   "outputs": [
    {
     "name": "stdout",
     "output_type": "stream",
     "text": [
      "   0  1  2  3  4  5  6  7  8  9  10  11  12  13  14  15  Class\n",
      "0  1  1  1  0  0  1  0  0  0  1   0   0   0   1   0   0      1\n",
      "1  0  0  1  0  0  0  1  0  1  0   1   0   1   1   1   0     -1\n",
      "2  0  1  1  1  0  0  1  0  0  0   1   0   1   1   1   0      1\n",
      "3  0  0  0  1  0  0  0  1  0  1   0   1   0   1   1   1     -1\n",
      "4  0  0  0  0  1  0  0  0  1  1   1   1   1   0   0   0      1\n",
      "5  0  0  0  0  1  1  1  1  1  0   0   0   0   0   0   0     -1\n",
      "6  1  0  0  0  1  1  1  1  0  0   0   1   0   0   1   1      1\n",
      "7  1  0  1  1  0  0  0  1  0  0   1   1   0   0   0   0     -1\n"
     ]
    },
    {
     "name": "stderr",
     "output_type": "stream",
     "text": [
      "/home/dipak/anaconda3/lib/python3.6/site-packages/ipykernel_launcher.py:27: FutureWarning: Method .as_matrix will be removed in a future version. Use .values instead.\n"
     ]
    },
    {
     "data": {
      "image/png": "[encoded data removed]",
      "text/plain": [
       "<Figure size 432x288 with 1 Axes>"
      ]
     },
     "metadata": {},
     "output_type": "display_data"
    }
   ],
   "source": [
    "#Let number of iterations be 10\n",
    "#Let learning rate be 0.01\n",
    "\n",
    "#T is 1\n",
    "#J is -1\n",
    "\n",
    "dict_pre = {'0': [1, 0, 0, 0, 0, 0, 1, 1], '1': [1, 0, 1, 0, 0, 0, 0, 0],\n",
    "            '2': [1, 1, 1, 0, 0, 0, 0, 1], '3': [0, 0, 1, 1, 0, 0, 0, 1],\n",
    "            '4': [0, 0, 0, 0, 1, 1, 1, 0], '5': [1, 0, 0, 0, 0, 1, 1, 0],\n",
    "            '6': [0, 1, 1, 0, 0, 1, 1, 0], '7': [0, 0, 0, 1, 0, 1, 1, 1],\n",
    "            '8': [0, 1, 0, 0, 1, 1, 0, 0], '9': [1, 0, 0, 1, 1, 0, 0, 0],\n",
    "            '10':[0, 1, 1, 0, 1, 0, 0, 1], '11':[0, 0, 0, 1, 1, 0, 1, 1],\n",
    "            '12':[0, 1, 1, 0, 1, 0, 0, 0], '13':[1, 1, 1, 1, 0, 0, 0, 0],\n",
    "            '14':[0, 1, 1, 1, 0, 0, 1, 0], '15':[0, 0, 0, 1, 0, 0, 1, 0]}\n",
    "\n",
    "df = pd.DataFrame(data = dict_pre)\n",
    "df['Class'] = [1, -1, 1, -1, 1, -1, 1, -1]\n",
    "print(df)\n",
    "#print(df)\n",
    "\n",
    "neuronA.fitA(45, 0.1, df)"
   ]
  },
  {
   "cell_type": "code",
   "execution_count": 297,
   "metadata": {},
   "outputs": [
    {
     "name": "stderr",
     "output_type": "stream",
     "text": [
      "/home/dipak/anaconda3/lib/python3.6/site-packages/ipykernel_launcher.py:108: FutureWarning: Method .as_matrix will be removed in a future version. Use .values instead.\n"
     ]
    },
    {
     "data": {
      "text/plain": [
       "0.5"
      ]
     },
     "execution_count": 297,
     "metadata": {},
     "output_type": "execute_result"
    }
   ],
   "source": [
    "neuronA.test_acc(df, 8)"
   ]
  },
  {
   "cell_type": "code",
   "execution_count": 298,
   "metadata": {},
   "outputs": [
    {
     "data": {
      "image/png": "[encoded data removed]",
      "text/plain": [
       "<Figure size 432x288 with 1 Axes>"
      ]
     },
     "metadata": {},
     "output_type": "display_data"
    }
   ],
   "source": [
    "plot_graph([0,0,0,1,0,0,0,1,0,1,0,1,0,1,1,1])"
   ]
  },
  {
   "cell_type": "code",
   "execution_count": 299,
   "metadata": {},
   "outputs": [
    {
     "data": {
      "text/plain": [
       "-1"
      ]
     },
     "execution_count": 299,
     "metadata": {},
     "output_type": "execute_result"
    }
   ],
   "source": [
    "neuronA.output([0,0,0,1,0,0,0,1,0,1,0,1,0,1,1,1])"
   ]
  },
  {
   "cell_type": "markdown",
   "metadata": {},
   "source": [
    "# Adaline for Case 2"
   ]
  },
  {
   "cell_type": "code",
   "execution_count": 300,
   "metadata": {},
   "outputs": [
    {
     "name": "stdout",
     "output_type": "stream",
     "text": [
      "[[ 2.97773324e+01]\n",
      " [-9.32527852e+00]\n",
      " [ 6.57576261e+00]\n",
      " [-1.50203504e+01]\n",
      " [ 1.43037572e-02]\n",
      " [-1.63920789e+01]\n",
      " [ 1.59341764e+00]\n",
      " [-1.76840230e+01]\n",
      " [ 1.03029468e+01]\n",
      " [-2.17690408e+00]\n",
      " [ 1.33726619e+01]\n",
      " [-1.42351203e+00]\n",
      " [-7.08592654e+00]\n",
      " [ 2.72037127e+01]\n",
      " [-8.37609964e+00]\n",
      " [ 1.37023479e+00]]\n"
     ]
    }
   ],
   "source": [
    "neuronB = Model(16)"
   ]
  },
  {
   "cell_type": "code",
   "execution_count": 301,
   "metadata": {},
   "outputs": [
    {
     "name": "stderr",
     "output_type": "stream",
     "text": [
      "/home/dipak/anaconda3/lib/python3.6/site-packages/ipykernel_launcher.py:65: FutureWarning: Method .as_matrix will be removed in a future version. Use .values instead.\n"
     ]
    },
    {
     "ename": "ValueError",
     "evalue": "x and y can be no greater than 2-D, but have shapes (45,) and (45, 1, 1)",
     "output_type": "error",
     "traceback": [
      "\u001b[0;31m---------------------------------------------------------------------------\u001b[0m",
      "\u001b[0;31mValueError\u001b[0m                                Traceback (most recent call last)",
      "\u001b[0;32m<ipython-input-301-c6c7715025da>\u001b[0m in \u001b[0;36m<module>\u001b[0;34m()\u001b[0m\n\u001b[0;32m----> 1\u001b[0;31m \u001b[0mneuronB\u001b[0m\u001b[0;34m.\u001b[0m\u001b[0mfitB\u001b[0m\u001b[0;34m(\u001b[0m\u001b[0;36m45\u001b[0m\u001b[0;34m,\u001b[0m \u001b[0;36m0.1\u001b[0m\u001b[0;34m,\u001b[0m \u001b[0mdf\u001b[0m\u001b[0;34m)\u001b[0m\u001b[0;34m\u001b[0m\u001b[0m\n\u001b[0m",
      "\u001b[0;32m<ipython-input-293-fa7297812362>\u001b[0m in \u001b[0;36mfitB\u001b[0;34m(self, epochs, learn_rate, data_set)\u001b[0m\n\u001b[1;32m    103\u001b[0m         \u001b[0mplt\u001b[0m\u001b[0;34m.\u001b[0m\u001b[0mylabel\u001b[0m\u001b[0;34m(\u001b[0m\u001b[0;34m\"Error\"\u001b[0m\u001b[0;34m)\u001b[0m\u001b[0;34m\u001b[0m\u001b[0m\n\u001b[1;32m    104\u001b[0m         \u001b[0mplt\u001b[0m\u001b[0;34m.\u001b[0m\u001b[0mxlabel\u001b[0m\u001b[0;34m(\u001b[0m\u001b[0;34m\"Iterations\"\u001b[0m\u001b[0;34m)\u001b[0m\u001b[0;34m\u001b[0m\u001b[0m\n\u001b[0;32m--> 105\u001b[0;31m         \u001b[0mplt\u001b[0m\u001b[0;34m.\u001b[0m\u001b[0mplot\u001b[0m\u001b[0;34m(\u001b[0m\u001b[0mout_x\u001b[0m\u001b[0;34m,\u001b[0m \u001b[0mout_y\u001b[0m\u001b[0;34m)\u001b[0m\u001b[0;34m\u001b[0m\u001b[0m\n\u001b[0m\u001b[1;32m    106\u001b[0m \u001b[0;34m\u001b[0m\u001b[0m\n\u001b[1;32m    107\u001b[0m     \u001b[0;32mdef\u001b[0m \u001b[0mtest_acc\u001b[0m\u001b[0;34m(\u001b[0m\u001b[0mself\u001b[0m\u001b[0;34m,\u001b[0m \u001b[0mdata_set\u001b[0m\u001b[0;34m,\u001b[0m \u001b[0msize\u001b[0m\u001b[0;34m)\u001b[0m\u001b[0;34m:\u001b[0m\u001b[0;34m\u001b[0m\u001b[0m\n",
      "\u001b[0;32m~/anaconda3/lib/python3.6/site-packages/matplotlib/pyplot.py\u001b[0m in \u001b[0;36mplot\u001b[0;34m(*args, **kwargs)\u001b[0m\n\u001b[1;32m   3356\u001b[0m                       mplDeprecation)\n\u001b[1;32m   3357\u001b[0m     \u001b[0;32mtry\u001b[0m\u001b[0;34m:\u001b[0m\u001b[0;34m\u001b[0m\u001b[0m\n\u001b[0;32m-> 3358\u001b[0;31m         \u001b[0mret\u001b[0m \u001b[0;34m=\u001b[0m \u001b[0max\u001b[0m\u001b[0;34m.\u001b[0m\u001b[0mplot\u001b[0m\u001b[0;34m(\u001b[0m\u001b[0;34m*\u001b[0m\u001b[0margs\u001b[0m\u001b[0;34m,\u001b[0m \u001b[0;34m**\u001b[0m\u001b[0mkwargs\u001b[0m\u001b[0;34m)\u001b[0m\u001b[0;34m\u001b[0m\u001b[0m\n\u001b[0m\u001b[1;32m   3359\u001b[0m     \u001b[0;32mfinally\u001b[0m\u001b[0;34m:\u001b[0m\u001b[0;34m\u001b[0m\u001b[0m\n\u001b[1;32m   3360\u001b[0m         \u001b[0max\u001b[0m\u001b[0;34m.\u001b[0m\u001b[0m_hold\u001b[0m \u001b[0;34m=\u001b[0m \u001b[0mwashold\u001b[0m\u001b[0;34m\u001b[0m\u001b[0m\n",
      "\u001b[0;32m~/anaconda3/lib/python3.6/site-packages/matplotlib/__init__.py\u001b[0m in \u001b[0;36minner\u001b[0;34m(ax, *args, **kwargs)\u001b[0m\n\u001b[1;32m   1853\u001b[0m                         \u001b[0;34m\"the Matplotlib list!)\"\u001b[0m \u001b[0;34m%\u001b[0m \u001b[0;34m(\u001b[0m\u001b[0mlabel_namer\u001b[0m\u001b[0;34m,\u001b[0m \u001b[0mfunc\u001b[0m\u001b[0;34m.\u001b[0m\u001b[0m__name__\u001b[0m\u001b[0;34m)\u001b[0m\u001b[0;34m,\u001b[0m\u001b[0;34m\u001b[0m\u001b[0m\n\u001b[1;32m   1854\u001b[0m                         RuntimeWarning, stacklevel=2)\n\u001b[0;32m-> 1855\u001b[0;31m             \u001b[0;32mreturn\u001b[0m \u001b[0mfunc\u001b[0m\u001b[0;34m(\u001b[0m\u001b[0max\u001b[0m\u001b[0;34m,\u001b[0m \u001b[0;34m*\u001b[0m\u001b[0margs\u001b[0m\u001b[0;34m,\u001b[0m \u001b[0;34m**\u001b[0m\u001b[0mkwargs\u001b[0m\u001b[0;34m)\u001b[0m\u001b[0;34m\u001b[0m\u001b[0m\n\u001b[0m\u001b[1;32m   1856\u001b[0m \u001b[0;34m\u001b[0m\u001b[0m\n\u001b[1;32m   1857\u001b[0m         inner.__doc__ = _add_data_doc(inner.__doc__,\n",
      "\u001b[0;32m~/anaconda3/lib/python3.6/site-packages/matplotlib/axes/_axes.py\u001b[0m in \u001b[0;36mplot\u001b[0;34m(self, *args, **kwargs)\u001b[0m\n\u001b[1;32m   1525\u001b[0m         \u001b[0mkwargs\u001b[0m \u001b[0;34m=\u001b[0m \u001b[0mcbook\u001b[0m\u001b[0;34m.\u001b[0m\u001b[0mnormalize_kwargs\u001b[0m\u001b[0;34m(\u001b[0m\u001b[0mkwargs\u001b[0m\u001b[0;34m,\u001b[0m \u001b[0m_alias_map\u001b[0m\u001b[0;34m)\u001b[0m\u001b[0;34m\u001b[0m\u001b[0m\n\u001b[1;32m   1526\u001b[0m \u001b[0;34m\u001b[0m\u001b[0m\n\u001b[0;32m-> 1527\u001b[0;31m         \u001b[0;32mfor\u001b[0m \u001b[0mline\u001b[0m \u001b[0;32min\u001b[0m \u001b[0mself\u001b[0m\u001b[0;34m.\u001b[0m\u001b[0m_get_lines\u001b[0m\u001b[0;34m(\u001b[0m\u001b[0;34m*\u001b[0m\u001b[0margs\u001b[0m\u001b[0;34m,\u001b[0m \u001b[0;34m**\u001b[0m\u001b[0mkwargs\u001b[0m\u001b[0;34m)\u001b[0m\u001b[0;34m:\u001b[0m\u001b[0;34m\u001b[0m\u001b[0m\n\u001b[0m\u001b[1;32m   1528\u001b[0m             \u001b[0mself\u001b[0m\u001b[0;34m.\u001b[0m\u001b[0madd_line\u001b[0m\u001b[0;34m(\u001b[0m\u001b[0mline\u001b[0m\u001b[0;34m)\u001b[0m\u001b[0;34m\u001b[0m\u001b[0m\n\u001b[1;32m   1529\u001b[0m             \u001b[0mlines\u001b[0m\u001b[0;34m.\u001b[0m\u001b[0mappend\u001b[0m\u001b[0;34m(\u001b[0m\u001b[0mline\u001b[0m\u001b[0;34m)\u001b[0m\u001b[0;34m\u001b[0m\u001b[0m\n",
      "\u001b[0;32m~/anaconda3/lib/python3.6/site-packages/matplotlib/axes/_base.py\u001b[0m in \u001b[0;36m_grab_next_args\u001b[0;34m(self, *args, **kwargs)\u001b[0m\n\u001b[1;32m    404\u001b[0m                 \u001b[0mthis\u001b[0m \u001b[0;34m+=\u001b[0m \u001b[0margs\u001b[0m\u001b[0;34m[\u001b[0m\u001b[0;36m0\u001b[0m\u001b[0;34m]\u001b[0m\u001b[0;34m,\u001b[0m\u001b[0;34m\u001b[0m\u001b[0m\n\u001b[1;32m    405\u001b[0m                 \u001b[0margs\u001b[0m \u001b[0;34m=\u001b[0m \u001b[0margs\u001b[0m\u001b[0;34m[\u001b[0m\u001b[0;36m1\u001b[0m\u001b[0;34m:\u001b[0m\u001b[0;34m]\u001b[0m\u001b[0;34m\u001b[0m\u001b[0m\n\u001b[0;32m--> 406\u001b[0;31m             \u001b[0;32mfor\u001b[0m \u001b[0mseg\u001b[0m \u001b[0;32min\u001b[0m \u001b[0mself\u001b[0m\u001b[0;34m.\u001b[0m\u001b[0m_plot_args\u001b[0m\u001b[0;34m(\u001b[0m\u001b[0mthis\u001b[0m\u001b[0;34m,\u001b[0m \u001b[0mkwargs\u001b[0m\u001b[0;34m)\u001b[0m\u001b[0;34m:\u001b[0m\u001b[0;34m\u001b[0m\u001b[0m\n\u001b[0m\u001b[1;32m    407\u001b[0m                 \u001b[0;32myield\u001b[0m \u001b[0mseg\u001b[0m\u001b[0;34m\u001b[0m\u001b[0m\n\u001b[1;32m    408\u001b[0m \u001b[0;34m\u001b[0m\u001b[0m\n",
      "\u001b[0;32m~/anaconda3/lib/python3.6/site-packages/matplotlib/axes/_base.py\u001b[0m in \u001b[0;36m_plot_args\u001b[0;34m(self, tup, kwargs)\u001b[0m\n\u001b[1;32m    381\u001b[0m             \u001b[0mx\u001b[0m\u001b[0;34m,\u001b[0m \u001b[0my\u001b[0m \u001b[0;34m=\u001b[0m \u001b[0mindex_of\u001b[0m\u001b[0;34m(\u001b[0m\u001b[0mtup\u001b[0m\u001b[0;34m[\u001b[0m\u001b[0;34m-\u001b[0m\u001b[0;36m1\u001b[0m\u001b[0;34m]\u001b[0m\u001b[0;34m)\u001b[0m\u001b[0;34m\u001b[0m\u001b[0m\n\u001b[1;32m    382\u001b[0m \u001b[0;34m\u001b[0m\u001b[0m\n\u001b[0;32m--> 383\u001b[0;31m         \u001b[0mx\u001b[0m\u001b[0;34m,\u001b[0m \u001b[0my\u001b[0m \u001b[0;34m=\u001b[0m \u001b[0mself\u001b[0m\u001b[0;34m.\u001b[0m\u001b[0m_xy_from_xy\u001b[0m\u001b[0;34m(\u001b[0m\u001b[0mx\u001b[0m\u001b[0;34m,\u001b[0m \u001b[0my\u001b[0m\u001b[0;34m)\u001b[0m\u001b[0;34m\u001b[0m\u001b[0m\n\u001b[0m\u001b[1;32m    384\u001b[0m \u001b[0;34m\u001b[0m\u001b[0m\n\u001b[1;32m    385\u001b[0m         \u001b[0;32mif\u001b[0m \u001b[0mself\u001b[0m\u001b[0;34m.\u001b[0m\u001b[0mcommand\u001b[0m \u001b[0;34m==\u001b[0m \u001b[0;34m'plot'\u001b[0m\u001b[0;34m:\u001b[0m\u001b[0;34m\u001b[0m\u001b[0m\n",
      "\u001b[0;32m~/anaconda3/lib/python3.6/site-packages/matplotlib/axes/_base.py\u001b[0m in \u001b[0;36m_xy_from_xy\u001b[0;34m(self, x, y)\u001b[0m\n\u001b[1;32m    243\u001b[0m         \u001b[0;32mif\u001b[0m \u001b[0mx\u001b[0m\u001b[0;34m.\u001b[0m\u001b[0mndim\u001b[0m \u001b[0;34m>\u001b[0m \u001b[0;36m2\u001b[0m \u001b[0;32mor\u001b[0m \u001b[0my\u001b[0m\u001b[0;34m.\u001b[0m\u001b[0mndim\u001b[0m \u001b[0;34m>\u001b[0m \u001b[0;36m2\u001b[0m\u001b[0;34m:\u001b[0m\u001b[0;34m\u001b[0m\u001b[0m\n\u001b[1;32m    244\u001b[0m             raise ValueError(\"x and y can be no greater than 2-D, but have \"\n\u001b[0;32m--> 245\u001b[0;31m                              \"shapes {} and {}\".format(x.shape, y.shape))\n\u001b[0m\u001b[1;32m    246\u001b[0m \u001b[0;34m\u001b[0m\u001b[0m\n\u001b[1;32m    247\u001b[0m         \u001b[0;32mif\u001b[0m \u001b[0mx\u001b[0m\u001b[0;34m.\u001b[0m\u001b[0mndim\u001b[0m \u001b[0;34m==\u001b[0m \u001b[0;36m1\u001b[0m\u001b[0;34m:\u001b[0m\u001b[0;34m\u001b[0m\u001b[0m\n",
      "\u001b[0;31mValueError\u001b[0m: x and y can be no greater than 2-D, but have shapes (45,) and (45, 1, 1)"
     ]
    },
    {
     "data": {
      "image/png": "[encoded data removed]",
      "text/plain": [
       "<Figure size 432x288 with 1 Axes>"
      ]
     },
     "metadata": {},
     "output_type": "display_data"
    }
   ],
   "source": [
    "neuronB.fitB(45, 0.1, df)"
   ]
  },
  {
   "cell_type": "code",
   "execution_count": 302,
   "metadata": {},
   "outputs": [
    {
     "name": "stderr",
     "output_type": "stream",
     "text": [
      "/home/dipak/anaconda3/lib/python3.6/site-packages/ipykernel_launcher.py:108: FutureWarning: Method .as_matrix will be removed in a future version. Use .values instead.\n"
     ]
    },
    {
     "data": {
      "text/plain": [
       "0.5"
      ]
     },
     "execution_count": 302,
     "metadata": {},
     "output_type": "execute_result"
    }
   ],
   "source": [
    "neuronB.test_acc(df, 8)"
   ]
  },
  {
   "cell_type": "code",
   "execution_count": 303,
   "metadata": {},
   "outputs": [
    {
     "data": {
      "image/png": "[encoded data removed]",
      "text/plain": [
       "<Figure size 432x288 with 1 Axes>"
      ]
     },
     "metadata": {},
     "output_type": "display_data"
    }
   ],
   "source": [
    "plot_graph([0,0,0,1,0,0,0,1,0,1,0,1,0,1,1,1])"
   ]
  },
  {
   "cell_type": "code",
   "execution_count": 292,
   "metadata": {},
   "outputs": [
    {
     "data": {
      "text/plain": [
       "1"
      ]
     },
     "execution_count": 292,
     "metadata": {},
     "output_type": "execute_result"
    }
   ],
   "source": [
    "neuronB.output([0,0,0,1,0,0,0,1,0,1,0,1,0,1,1,1])"
   ]
  }
 ],
 "metadata": {
  "kernelspec": {
   "display_name": "Python 3",
   "language": "python",
   "name": "python3"
  },
  "language_info": {
   "codemirror_mode": {
    "name": "ipython",
    "version": 3
   },
   "file_extension": ".py",
   "mimetype": "text/x-python",
   "name": "python",
   "nbconvert_exporter": "python",
   "pygments_lexer": "ipython3",
   "version": "3.6.5"
  }
 },
 "nbformat": 4,
 "nbformat_minor": 2
}
